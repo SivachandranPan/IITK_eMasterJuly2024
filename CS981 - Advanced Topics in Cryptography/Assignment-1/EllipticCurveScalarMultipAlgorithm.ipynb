{
 "cells": [
  {
   "cell_type": "code",
   "execution_count": 21,
   "id": "2857f5f8",
   "metadata": {},
   "outputs": [
    {
     "name": "stdout",
     "output_type": "stream",
     "text": [
      "Recovered bits: 10111010010\n",
      "Recovered_scalar: 1490\n"
     ]
    }
   ],
   "source": [
    "def elliptic_curve_scalar_multip_algo(data_pattern):\n",
    "    \n",
    "    # Assuming the operation of pattern - D for doubling, and DA for both doubling and addition,\n",
    "    # With this understanding recover the scalar key\n",
    "    \n",
    "    # In most of the scalar multiplication algorithms, it considers top bit as 1, \n",
    "    # accordingly assigning \"Key_value = 1\"\n",
    "    \n",
    "    key_value = ['1']\n",
    "    \n",
    "    # Recovering key value with the data pattern input provided\n",
    "    \n",
    "    for data in data_pattern:\n",
    "        if data == 'D':\n",
    "            key_value.append('0')\n",
    "        elif data == 'DA':\n",
    "            key_value.append('1')\n",
    "        else:\n",
    "            raise ValueError(f\"Unknown operation '{data}' in pattern. Expecting either 'D' or 'DA'.\")\n",
    "            \n",
    "    \n",
    "    # Joining the numbers and removes comma to view it as Binary\n",
    "    converted_bits = ''.join(key_value)\n",
    "    \n",
    "    # Decimal conversion    \n",
    "    key = int(converted_bits, 2)\n",
    "    \n",
    "    return converted_bits, key\n",
    "\n",
    "# Sample data pattern to check this recovery logic\n",
    "data_pattern = [\"D\", \"DA\", \"DA\", \"DA\", \"D\", \"DA\", \"D\", \"D\", \"DA\", \"D\"]\n",
    "\n",
    "# Function call - elliptic_curve_scalar_multip_algo\n",
    "converted_bits, scalar = elliptic_curve_scalar_multip_algo(data_pattern)\n",
    "\n",
    "print(\"Recovered bits:\", converted_bits)\n",
    "print(\"Recovered_scalar:\", scalar) #In decimal values\n"
   ]
  },
  {
   "cell_type": "code",
   "execution_count": 22,
   "id": "23a9861c",
   "metadata": {},
   "outputs": [
    {
     "name": "stdout",
     "output_type": "stream",
     "text": [
      "Enter your pattern to verify this algorithm (comma-separated, eg., D,DA):D,DA,DA,D,D,D,D,D,DA,DA,DA,DA,D,D,DA,DA,DA\n",
      "Valid data input pattern: ['D', 'DA', 'DA', 'D', 'D', 'D', 'D', 'D', 'DA', 'DA', 'DA', 'DA', 'D', 'D', 'DA', 'DA', 'DA']\n"
     ]
    }
   ],
   "source": [
    "# Trial to get input from user with specificed format\n",
    "# Enter D, DA in comma-separated format, otherwise it throws error\n",
    "\n",
    "pattern_input = input(\"Enter your pattern to verify this algorithm (comma-separated, eg., D,DA):\")\n",
    "pattern_input_1 = [item.strip() for item in pattern_input.split(\",\")]\n",
    "\n",
    "# Validating of input whether user entered correctly or not\n",
    "\n",
    "for data in pattern_input_1:\n",
    "    if data not in (\"D\", \"DA\"):\n",
    "        raise ValueError(f\"Unknown operation '{data}' in the input pattern provided. Expecting either 'D' or 'DA'.\")\n",
    "\n",
    "# Display the data input received from user        \n",
    "\n",
    "try:\n",
    "    print(\"Valid data input pattern:\", pattern_input_1)\n",
    "except ValueError as e:\n",
    "    print(\"Error:\", e)"
   ]
  },
  {
   "cell_type": "code",
   "execution_count": 23,
   "id": "a46647dd",
   "metadata": {},
   "outputs": [
    {
     "name": "stdout",
     "output_type": "stream",
     "text": [
      "Recovered bits: 101100000111100111\n",
      "Recovered_scalar: 180711\n"
     ]
    }
   ],
   "source": [
    "# Calling of function to recover bits\n",
    "\n",
    "converted_bits, scalar = elliptic_curve_scalar_multip_algo(pattern_input_1)\n",
    "\n",
    "print(\"Recovered bits:\", converted_bits)\n",
    "print(\"Recovered_scalar:\", scalar)"
   ]
  },
  {
   "cell_type": "code",
   "execution_count": null,
   "id": "e0d2848a",
   "metadata": {},
   "outputs": [],
   "source": []
  }
 ],
 "metadata": {
  "kernelspec": {
   "display_name": "Python 3 (ipykernel)",
   "language": "python",
   "name": "python3"
  },
  "language_info": {
   "codemirror_mode": {
    "name": "ipython",
    "version": 3
   },
   "file_extension": ".py",
   "mimetype": "text/x-python",
   "name": "python",
   "nbconvert_exporter": "python",
   "pygments_lexer": "ipython3",
   "version": "3.9.13"
  }
 },
 "nbformat": 4,
 "nbformat_minor": 5
}
