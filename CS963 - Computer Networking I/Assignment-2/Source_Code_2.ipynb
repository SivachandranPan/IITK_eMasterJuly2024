{
 "cells": [
  {
   "cell_type": "code",
   "execution_count": 1,
   "id": "b5c63565",
   "metadata": {},
   "outputs": [
    {
     "name": "stdout",
     "output_type": "stream",
     "text": [
      "Original Data:  10010011011\n",
      "Encoded Message (Data + CRC):  100100110111100\n",
      "Received Message after applying error pattern 100010000000000:  000110110111100\n",
      "Error detected for error pattern 100010000000000.\n",
      "Received Message after applying error pattern 100110000000000:  000010110111100\n",
      "No error detected for error pattern 100110000000000.\n"
     ]
    }
   ],
   "source": [
    "def xor(a, b):\n",
    "    # XOR operation between two strings\n",
    "    result = []\n",
    "    for i in range(1, len(b)):\n",
    "        result.append('0' if a[i] == b[i] else '1')\n",
    "    return ''.join(result)\n",
    "\n",
    "def mod2div(dividend, divisor):\n",
    "    # Perform modulo-2 division and return remainder\n",
    "    pick = len(divisor)\n",
    "    tmp = dividend[0:pick]\n",
    "    \n",
    "    while pick < len(dividend):\n",
    "        if tmp[0] == '1':\n",
    "            tmp = xor(divisor, tmp) + dividend[pick]\n",
    "        else:\n",
    "            tmp = xor('0' * pick, tmp) + dividend[pick]\n",
    "        pick += 1\n",
    "\n",
    "    if tmp[0] == '1':\n",
    "        tmp = xor(divisor, tmp)\n",
    "    else:\n",
    "        tmp = xor('0' * pick, tmp)\n",
    "\n",
    "    return tmp\n",
    "\n",
    "def generate_crc(data, divisor):\n",
    "    n = len(divisor) - 1\n",
    "    augmented_data = data + '0' * n\n",
    "    remainder = mod2div(augmented_data, divisor)\n",
    "    crc = remainder\n",
    "    return data + crc  # Return the complete frame (data + CRC)\n",
    "\n",
    "def apply_error(frame, error_pattern):\n",
    "    # Apply the error pattern to the frame\n",
    "    error_frame = list(frame)\n",
    "    for i in range(len(error_pattern)):\n",
    "        if error_pattern[i] == '1':\n",
    "            error_frame[i] = '1' if frame[i] == '0' else '0'\n",
    "    return ''.join(error_frame)\n",
    "\n",
    "def check_crc(received_frame, divisor):\n",
    "    remainder = mod2div(received_frame, divisor)\n",
    "    if '1' in remainder:\n",
    "        return False  # Error detected\n",
    "    return True  # No error\n",
    "\n",
    "# Part (a): Encoding\n",
    "data = \"10010011011\"  # Data bits\n",
    "divisor = \"10011\"  # CRC-4 polynomial\n",
    "\n",
    "print(\"Original Data: \", data)\n",
    "encoded_message = generate_crc(data, divisor)\n",
    "print(\"Encoded Message (Data + CRC): \", encoded_message)\n",
    "\n",
    "# Part (b): Error Pattern 100010000000000\n",
    "error_pattern_b = \"100010000000000\"\n",
    "received_message_b = apply_error(encoded_message, error_pattern_b)\n",
    "print(\"Received Message after applying error pattern 100010000000000: \", received_message_b)\n",
    "if check_crc(received_message_b, divisor):\n",
    "    print(\"No error detected for error pattern 100010000000000.\")\n",
    "else:\n",
    "    print(\"Error detected for error pattern 100010000000000.\")\n",
    "\n",
    "# Part (c): Error Pattern 100110000000000\n",
    "error_pattern_c = \"100110000000000\"\n",
    "received_message_c = apply_error(encoded_message, error_pattern_c)\n",
    "print(\"Received Message after applying error pattern 100110000000000: \", received_message_c)\n",
    "if check_crc(received_message_c, divisor):\n",
    "    print(\"No error detected for error pattern 100110000000000.\")\n",
    "else:\n",
    "    print(\"Error detected for error pattern 100110000000000.\")\n"
   ]
  },
  {
   "cell_type": "code",
   "execution_count": null,
   "id": "045c189a",
   "metadata": {},
   "outputs": [],
   "source": []
  }
 ],
 "metadata": {
  "kernelspec": {
   "display_name": "Python 3 (ipykernel)",
   "language": "python",
   "name": "python3"
  },
  "language_info": {
   "codemirror_mode": {
    "name": "ipython",
    "version": 3
   },
   "file_extension": ".py",
   "mimetype": "text/x-python",
   "name": "python",
   "nbconvert_exporter": "python",
   "pygments_lexer": "ipython3",
   "version": "3.9.13"
  }
 },
 "nbformat": 4,
 "nbformat_minor": 5
}
