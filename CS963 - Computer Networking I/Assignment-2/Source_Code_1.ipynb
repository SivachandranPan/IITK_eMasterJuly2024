{
 "cells": [
  {
   "cell_type": "code",
   "execution_count": 21,
   "id": "fc5a1f51",
   "metadata": {},
   "outputs": [
    {
     "name": "stdout",
     "output_type": "stream",
     "text": [
      "Original Data:  1101000000\n",
      "Transmitted Frame (Data + CRC):  110100000010000\n",
      "Frame received correctly.\n"
     ]
    }
   ],
   "source": [
    "def xor(a, b):\n",
    "    # XOR operation between two strings\n",
    "    result = []\n",
    "    for i in range(1, len(b)):\n",
    "        result.append('0' if a[i] == b[i] else '1')\n",
    "    return ''.join(result)\n",
    "\n",
    "def mod2div(dividend, divisor):\n",
    "    # Perform modulo-2 division and return remainder\n",
    "    pick = len(divisor)\n",
    "    tmp = dividend[0:pick]\n",
    "    \n",
    "    while pick < len(dividend):\n",
    "        if tmp[0] == '1':\n",
    "            tmp = xor(divisor, tmp) + dividend[pick]\n",
    "        else:\n",
    "            tmp = xor('0' * pick, tmp) + dividend[pick]\n",
    "        pick += 1\n",
    "\n",
    "    if tmp[0] == '1':\n",
    "        tmp = xor(divisor, tmp)\n",
    "    else:\n",
    "        tmp = xor('0' * pick, tmp)\n",
    "\n",
    "    return tmp\n",
    "\n",
    "def generate_crc(data, divisor):\n",
    "    n = len(divisor) - 1\n",
    "    augmented_data = data + '0' * n\n",
    "    remainder = mod2div(augmented_data, divisor)\n",
    "    crc = remainder\n",
    "    return data + crc  # Return the complete frame (data + CRC)\n",
    "\n",
    "def check_crc(received_frame, divisor):\n",
    "    remainder = mod2div(received_frame, divisor)\n",
    "    if '1' in remainder:\n",
    "        return False  # Error detected\n",
    "    return True  # No error\n",
    "\n",
    "# Example usage\n",
    "# data = \"1101001110\"  # 10-bit data\n",
    "# divisor = \"110101\"  # CRC-6 polynomial\n",
    "data = \"1101000000\"  # 10-bit data\n",
    "divisor = \"110110\"  # CRC-6 polynomial\n",
    "\n",
    "print(\"Original Data: \", data)\n",
    "transmitted_frame = generate_crc(data, divisor)\n",
    "print(\"Transmitted Frame (Data + CRC): \", transmitted_frame)\n",
    "\n",
    "received_frame = transmitted_frame  # Simulate no error\n",
    "\n",
    "if check_crc(received_frame, divisor):\n",
    "    print(\"Frame received correctly.\")\n",
    "else:\n",
    "    print(\"Error detected in received frame, so this frame should be discarded\")\n"
   ]
  },
  {
   "cell_type": "code",
   "execution_count": 23,
   "id": "104b41b0",
   "metadata": {},
   "outputs": [
    {
     "name": "stdout",
     "output_type": "stream",
     "text": [
      "Original Data:  1101001110\n",
      "Transmitted Frame (Data + CRC):  110100111011011\n",
      "Received Frame after introducing error at position 0:  010100111011011\n",
      "Error detected in received frame, so this frame should be discarded\n"
     ]
    }
   ],
   "source": [
    "import random\n",
    "\n",
    "def introduce_error(frame, error_position):\n",
    "    # Introduce an error at a specific bit position\n",
    "    error_frame = list(frame)\n",
    "    error_frame[error_position] = '1' if frame[error_position] == '0' else '0'\n",
    "    return ''.join(error_frame)\n",
    "\n",
    "# Example usage\n",
    "data = \"1101001110\"  # 10-bit data\n",
    "divisor = \"110101\"  # CRC-6 polynomial\n",
    "\n",
    "print(\"Original Data: \", data)\n",
    "transmitted_frame = generate_crc(data, divisor)\n",
    "print(\"Transmitted Frame (Data + CRC): \", transmitted_frame)\n",
    "\n",
    "# Introduce error in the transmitted frame at a random position\n",
    "error_position = random.randint(0, len(transmitted_frame) - 1)\n",
    "received_frame = introduce_error(transmitted_frame, error_position)\n",
    "print(f\"Received Frame after introducing error at position {error_position}: \", received_frame)\n",
    "\n",
    "if check_crc(received_frame, divisor):\n",
    "    print(\"Frame received correctly.\")\n",
    "else:\n",
    "    print(\"Error detected in received frame, so this frame should be discarded\")\n"
   ]
  },
  {
   "cell_type": "code",
   "execution_count": null,
   "id": "a3bb6b68",
   "metadata": {},
   "outputs": [],
   "source": []
  }
 ],
 "metadata": {
  "kernelspec": {
   "display_name": "Python 3 (ipykernel)",
   "language": "python",
   "name": "python3"
  },
  "language_info": {
   "codemirror_mode": {
    "name": "ipython",
    "version": 3
   },
   "file_extension": ".py",
   "mimetype": "text/x-python",
   "name": "python",
   "nbconvert_exporter": "python",
   "pygments_lexer": "ipython3",
   "version": "3.9.13"
  }
 },
 "nbformat": 4,
 "nbformat_minor": 5
}
