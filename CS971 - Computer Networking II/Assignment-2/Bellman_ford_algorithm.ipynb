{
 "cells": [
  {
   "cell_type": "code",
   "execution_count": 59,
   "id": "8938964d",
   "metadata": {},
   "outputs": [
    {
     "name": "stdout",
     "output_type": "stream",
     "text": [
      "Enter the source node (A-K): a\n",
      "Enter the destination node (A-K): k\n",
      "The shortest path cost from A to K is: 5\n"
     ]
    }
   ],
   "source": [
    "class Graph:\n",
    "    def __init__(self, vertices):\n",
    "        self.V = vertices  # Number of vertices\n",
    "        self.edges = []    # List to store edges (u, v, weight)\n",
    "\n",
    "    # Assigning an edge to the graph\n",
    "    def add_edge(self, u, v, weight):\n",
    "        self.edges.append((u, v, weight))\n",
    "\n",
    "    # Bellman-Ford algorithm designed to find the shortest path between and source destination\n",
    "    def bellman_ford(self, source):\n",
    "        # Step 1: Initialize distances\n",
    "        distances = [float('inf')] * self.V\n",
    "        distances[source] = 0\n",
    "\n",
    "        # Step 2: Relax edges |V| - 1 times\n",
    "        for _ in range(self.V - 1):\n",
    "            for u, v, weight in self.edges:\n",
    "                if distances[u] != float('inf') and distances[u] + weight < distances[v]:\n",
    "                    distances[v] = distances[u] + weight\n",
    "\n",
    "        # Step 3: Check for negative weight cycles\n",
    "        for u, v, weight in self.edges:\n",
    "            if distances[u] != float('inf') and distances[u] + weight < distances[v]:\n",
    "                print(\"Graph contains a negative weight cycle.\")\n",
    "                return None\n",
    "\n",
    "        return distances\n",
    "\n",
    "\n",
    "g = Graph(11)  # Total 10 vertices: A-K, mapped to indices 0-10\n",
    "# Add edges with weights\n",
    "edges = [\n",
    "    ('A', 'B', 1), ('A', 'E', 1),\n",
    "    ('C', 'B', 1), ('C', 'F', 3), ('C', 'J', 4), ('C', 'G', 1),\n",
    "    ('D', 'E', 5), ('D', 'H', 1), ('D', 'J', 2), ('D', 'K', 1),\n",
    "    ('G', 'E', 1), ('G', 'H', 1),\n",
    "    ('K', 'F', 1),\n",
    "]\n",
    "\n",
    "# Map node labels to indices (A = 0, B = 1, ..., K = 10)\n",
    "node_map = {chr(65 + i): i for i in range(13)}\n",
    "for u, v, weight in edges:\n",
    "    g.add_edge(node_map[u], node_map[v], weight)\n",
    "    g.add_edge(node_map[v], node_map[u], weight)  # Assuming undirected graph\n",
    "\n",
    "# Get source and destination from user\n",
    "source_node = input(\"Enter the source node (A-K): \").strip().upper()\n",
    "destination_node = input(\"Enter the destination node (A-K): \").strip().upper()\n",
    "\n",
    "\n",
    "# Calculate shortest path\n",
    "source_index = node_map[source_node]\n",
    "destination_index = node_map[destination_node]\n",
    "distances = g.bellman_ford(source_index)\n",
    "\n",
    "if distances:\n",
    "    cost = distances[destination_index]\n",
    "    if cost == float('inf'):\n",
    "        print(f\"No path exists from {source_node} to {destination_node}.\")\n",
    "    else:\n",
    "        print(f\"The shortest path cost from {source_node} to {destination_node} is: {cost}\")"
   ]
  },
  {
   "cell_type": "code",
   "execution_count": null,
   "id": "a3d2503d",
   "metadata": {},
   "outputs": [],
   "source": []
  }
 ],
 "metadata": {
  "kernelspec": {
   "display_name": "Python 3 (ipykernel)",
   "language": "python",
   "name": "python3"
  },
  "language_info": {
   "codemirror_mode": {
    "name": "ipython",
    "version": 3
   },
   "file_extension": ".py",
   "mimetype": "text/x-python",
   "name": "python",
   "nbconvert_exporter": "python",
   "pygments_lexer": "ipython3",
   "version": "3.9.13"
  }
 },
 "nbformat": 4,
 "nbformat_minor": 5
}
